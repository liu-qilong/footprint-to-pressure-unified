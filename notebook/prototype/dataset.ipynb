{
 "cells": [
  {
   "cell_type": "code",
   "execution_count": 2,
   "metadata": {},
   "outputs": [],
   "source": [
    "import sys\n",
    "sys.path.append('../..')"
   ]
  },
  {
   "cell_type": "code",
   "execution_count": 20,
   "metadata": {},
   "outputs": [],
   "source": [
    "import pandas as pd\n",
    "from pathlib import Path\n",
    "\n",
    "import torch\n",
    "from torch.utils.data import Dataset\n",
    "\n",
    "from src.tool.registry import DATASET_REGISTRY\n",
    "\n",
    "# @DATASET_REGISTRY.register()\n",
    "class Pedar_Dataset_footprint2pressure(Dataset):\n",
    "    def __init__(\n",
    "            self: str,\n",
    "            footprint_wrap_folder: str = '../../data/processed/footprint-wrap',\n",
    "            pedar_dynamic: str = '../../data/processed/pedar_dynamic.pkl',\n",
    "            sense_range: float = 600,\n",
    "            dtype = torch.float32,\n",
    "            ):\n",
    "        self.footprint_wrap_folder = Path(footprint_wrap_folder)\n",
    "        self.pedar_dynamic = pd.read_pickle(pedar_dynamic)\n",
    "        self.dtype = dtype\n",
    "        self.sense_range = sense_range"
   ]
  },
  {
   "cell_type": "code",
   "execution_count": 21,
   "metadata": {},
   "outputs": [],
   "source": [
    "data = Pedar_Dataset_footprint2pressure()"
   ]
  },
  {
   "cell_type": "code",
   "execution_count": 22,
   "metadata": {},
   "outputs": [
    {
     "data": {
      "text/plain": [
       "MultiIndex([(   'BF',  'S1'),\n",
       "            (   'BF', 'S10'),\n",
       "            (   'BF', 'S11'),\n",
       "            (   'BF', 'S12'),\n",
       "            (   'BF', 'S13'),\n",
       "            (   'BF', 'S15'),\n",
       "            (   'BF', 'S16'),\n",
       "            (   'BF', 'S17'),\n",
       "            (   'BF', 'S18'),\n",
       "            (   'BF', 'S19'),\n",
       "            ...\n",
       "            ('Poron', 'S66'),\n",
       "            ('Poron', 'S67'),\n",
       "            ('Poron', 'S68'),\n",
       "            ('Poron', 'S69'),\n",
       "            ('Poron',  'S7'),\n",
       "            ('Poron', 'S70'),\n",
       "            ('Poron', 'S72'),\n",
       "            ('Poron', 'S73'),\n",
       "            ('Poron', 'S76'),\n",
       "            ('Poron',  'S9')],\n",
       "           names=['condition', 'subject'], length=300)"
      ]
     },
     "execution_count": 22,
     "metadata": {},
     "output_type": "execute_result"
    }
   ],
   "source": [
    "data.pedar_dynamic.index"
   ]
  },
  {
   "cell_type": "code",
   "execution_count": 29,
   "metadata": {},
   "outputs": [],
   "source": [
    "import numpy as np\n",
    "\n",
    "blend_weight = np.random.rand(5)\n",
    "blend_weight = blend_weight / blend_weight.sum()"
   ]
  },
  {
   "cell_type": "code",
   "execution_count": 34,
   "metadata": {},
   "outputs": [
    {
     "data": {
      "text/plain": [
       "(5, 198)"
      ]
     },
     "execution_count": 34,
     "metadata": {},
     "output_type": "execute_result"
    }
   ],
   "source": [
    "subject = 'S1'\n",
    "data.pedar_dynamic.loc[:, subject, :].values.shape"
   ]
  },
  {
   "cell_type": "code",
   "execution_count": 41,
   "metadata": {},
   "outputs": [
    {
     "data": {
      "text/plain": [
       "array([ 45.14004545,  68.78068264,  77.03062559,  76.85072177,\n",
       "        70.36068203,  47.62758364,  58.69825271,  94.27409966,\n",
       "       115.8629938 , 113.62590442,  94.74140208,   0.        ,\n",
       "        49.11693669,  65.55513005,  80.80376638, 100.82046122,\n",
       "        84.89567896,  68.8446002 ,  62.43335985,  38.87101851,\n",
       "        69.26387057,  85.25332428,  84.73554659,  86.01331793,\n",
       "        81.98131498,  65.08443451,  33.7713857 ,  51.80261651,\n",
       "        59.06998485,  75.20333117,  81.79965208,  80.53445052,\n",
       "        78.12321785,  26.92585321,  34.36803446,  35.38866596,\n",
       "        54.42087084,  66.09409056,  60.41769455,  88.31013283,\n",
       "        10.99364413,  23.70323374,  27.71517154,  32.31016114,\n",
       "        38.05973809,  51.49973079,  49.7166541 ,   6.72538773,\n",
       "        10.14060845,   9.39310211,  10.88208278,  15.46809543,\n",
       "        12.87962449,  13.71433352,  48.11503205,  26.95228902,\n",
       "        39.97576398,  36.48116144,  39.40737188,  40.05127694,\n",
       "        36.45924626, 107.15823423,  56.96623258,  62.50267701,\n",
       "        54.98619714,  45.28078626,  49.00167128,  37.84444971,\n",
       "       107.97984655,  57.98496642,  73.95019445,  58.96553458,\n",
       "        53.47415357,  44.35407289,  38.98773728,  72.55246138,\n",
       "        36.68591272,  72.63945234,  73.89361707,  41.21485589,\n",
       "        34.96914792,  40.41479748, 111.75316642,  46.4016683 ,\n",
       "        37.79331267,  41.24937947,  32.7121338 ,  25.89098455,\n",
       "        33.77518755,  85.73841788,  51.95087158,  64.34169714,\n",
       "        62.26354478,  60.12212392,  45.35495675,  78.57133943,\n",
       "        49.44602662,  39.91439246,  21.35778801,  53.66450326,\n",
       "        92.21491168,  87.00963361,  75.28851277,  79.12028284,\n",
       "        34.43510052,  58.80586827,  99.46647929, 126.636903  ,\n",
       "       121.0991333 ,  96.14529645,   0.        ,  38.09559754,\n",
       "        58.3828615 ,  80.93084459,  96.18399731,  86.06428294,\n",
       "        89.26224352,  86.82406116,  34.20436635,  41.12454704,\n",
       "        76.06759885,  83.70840639,  77.60191152,  76.25429227,\n",
       "        60.9038314 ,  36.82720202,  41.83829367,  58.0905907 ,\n",
       "        66.61018982,  75.98809676,  73.20092565,  76.74500303,\n",
       "        38.20582388,  35.95078817,  48.99263698,  57.16703617,\n",
       "        71.08729071,  60.70690087,  98.2295115 ,  26.30664322,\n",
       "        29.67618564,  35.39423499,  38.2775091 ,  51.13776523,\n",
       "        43.21798292,  65.71339027,  19.42639146,  24.38909348,\n",
       "        26.31189977,  17.94414351,  28.08440726,  34.16258999,\n",
       "        47.32838678,  37.11121766,  31.79554463,  33.13464233,\n",
       "        26.45870353,  30.53837196,  35.82455044,  44.91432456,\n",
       "        79.68963987,  49.81714625,  43.11702506,  55.0671307 ,\n",
       "        49.76410973,  44.08885152,  51.67207111,  95.01333923,\n",
       "        58.73719763,  52.02756159,  86.46957678,  55.11721762,\n",
       "        34.29495163,  51.41420873,  68.19274169,  53.77185404,\n",
       "        68.80667598,  72.12676058,  46.43446867,  28.65440375,\n",
       "        33.12152658,  97.95129497,  44.15826778,  32.81606643,\n",
       "        45.79738397,  27.49418814,  23.1889038 ,  34.84497737,\n",
       "       105.75604501,  50.485463  ,  34.71164347,  47.14777621,\n",
       "        52.25816194,  61.40627771,  75.84438933,  54.07539546,\n",
       "        76.30550348,  55.57936234])"
      ]
     },
     "execution_count": 41,
     "metadata": {},
     "output_type": "execute_result"
    }
   ],
   "source": [
    "blend_pedar = (data.pedar_dynamic.loc[:, subject, :].values * np.expand_dims(blend_weight, axis=-1)).sum(axis=0)\n",
    "blend_pedar"
   ]
  },
  {
   "cell_type": "code",
   "execution_count": null,
   "metadata": {},
   "outputs": [],
   "source": []
  }
 ],
 "metadata": {
  "kernelspec": {
   "display_name": "pytorch",
   "language": "python",
   "name": "python3"
  },
  "language_info": {
   "codemirror_mode": {
    "name": "ipython",
    "version": 3
   },
   "file_extension": ".py",
   "mimetype": "text/x-python",
   "name": "python",
   "nbconvert_exporter": "python",
   "pygments_lexer": "ipython3",
   "version": "3.9.16"
  }
 },
 "nbformat": 4,
 "nbformat_minor": 2
}
