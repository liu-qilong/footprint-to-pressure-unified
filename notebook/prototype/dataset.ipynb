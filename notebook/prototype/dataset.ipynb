{
 "cells": [
  {
   "cell_type": "code",
   "execution_count": 48,
   "metadata": {},
   "outputs": [],
   "source": [
    "import sys\n",
    "sys.path.append('../..')"
   ]
  },
  {
   "cell_type": "code",
   "execution_count": 49,
   "metadata": {},
   "outputs": [],
   "source": [
    "import os\n",
    "import numpy as np\n",
    "import pandas as pd\n",
    "from pathlib import Path\n",
    "from PIL import Image, ImageOps\n",
    "\n",
    "import torch\n",
    "from torch.utils.data import Dataset\n",
    "from torchvision import transforms\n",
    "\n",
    "from src.tool.registry import DATASET_REGISTRY\n",
    "\n",
    "# @DATASET_REGISTRY.register()\n",
    "class Pedar_Dataset_footprint2pressure(Dataset):\n",
    "    def __init__(\n",
    "            self: str,\n",
    "            footprint_wrap_folder: str = '../../data/processed/footprint-wrap',\n",
    "            pedar_dynamic: str = '../../data/processed/pedar_dynamic.pkl',\n",
    "            l_mask_path: str = 'config/left_foot_mask.png',\n",
    "            sense_range: float = 600,\n",
    "            stack_range: int = 50,\n",
    "            dtype = torch.float32,\n",
    "            ):\n",
    "        self.footprint_wrap_folder = Path(footprint_wrap_folder)\n",
    "        self.pedar_dynamic = pd.read_pickle(pedar_dynamic)\n",
    "        self.dtype = dtype\n",
    "        self.sense_range = sense_range\n",
    "        self.stack_range = stack_range\n",
    "\n",
    "        self.load_foot_mask(l_mask_path)\n",
    "        \n",
    "        # youngs modulus (MPa)\n",
    "        self.material_youngs = {\n",
    "            'Poron': 0.33,\n",
    "            'PElite': 1.11,\n",
    "            'Lunalight': 5.88,\n",
    "            'Lunanastik': 0.71,\n",
    "            'BF': 0.00,\n",
    "        }\n",
    "\n",
    "        # subjects list as index\n",
    "        self.index = []\n",
    "\n",
    "        for subject in self.pedar_dynamic.index.get_level_values(1).drop_duplicates():\n",
    "            if os.path.isfile(self.footprint_wrap_folder / f'{subject}-L.jpg'):\n",
    "                self.index.append(subject)\n",
    "\n",
    "    def load_foot_mask(self, l_mask_path: str):\n",
    "        # load foot masks\n",
    "        l_img = Image.open(l_mask_path)\n",
    "        r_img = ImageOps.mirror(l_img)\n",
    "\n",
    "        self.l_mask = np.array(l_img).astype(np.float64)\n",
    "        self.r_mask = np.array(r_img).astype(np.float64)\n",
    "\n",
    "        # detect pixels of area no.1~197 and store the corresponding indexes\n",
    "        self.l_index = {}\n",
    "        self.r_index = {}\n",
    "\n",
    "        for n in range(0, 99):\n",
    "            self.l_index[n] = np.where(self.l_mask == n + 1)\n",
    "            self.r_index[n + 99] = np.where(self.r_mask == n + 1)\n",
    "\n",
    "        # index grids for slicing footprint image as sensor stacks\n",
    "        range_half = int(self.stack_range / 2)\n",
    "\n",
    "        self.x_grid = {'L': [], 'R': []}\n",
    "        self.y_grid = {'L': [], 'R': []}\n",
    "\n",
    "        for sensor in range(99):\n",
    "            x_center, y_center = int(self.l_index[sensor][0].mean()), int(self.l_index[sensor][1].mean())\n",
    "            xs = np.arange(x_center - range_half, x_center + range_half)\n",
    "            ys = np.arange(y_center - range_half, y_center + range_half)\n",
    "            xg, yg = np.meshgrid(xs, ys, indexing='ij')\n",
    "            self.x_grid['L'].append(xg)\n",
    "            self.y_grid['L'].append(yg)\n",
    "\n",
    "        for sensor in range(99, 198):\n",
    "            x_center, y_center = int(self.r_index[sensor][0].mean()), int(self.r_index[sensor][1].mean())\n",
    "            xs = np.arange(x_center - range_half, x_center + range_half)\n",
    "            ys = np.arange(y_center - range_half, y_center + range_half)\n",
    "            xg, yg = np.meshgrid(xs, ys, indexing='ij')\n",
    "            self.x_grid['R'].append(xg)\n",
    "            self.y_grid['R'].append(yg)\n",
    "\n",
    "    def __len__(self):\n",
    "        return len(self.index)\n",
    "    \n",
    "    def __getitem__(self, index: int, blend_weight: np.array = None) -> tuple:\n",
    "        if blend_weight is None:\n",
    "            blend_weight = np.random.rand(5)\n",
    "            blend_weight = blend_weight / blend_weight.sum()\n",
    "\n",
    "        # get subject\n",
    "        subject = self.index[index]\n",
    "        \n",
    "        # weight blends young modulus & pedar arrays\n",
    "        arr_pedar = self.pedar_dynamic.loc[:, subject, :].values / self.sense_range\n",
    "        blend_pedar = torch.tensor(\n",
    "            (arr_pedar * np.expand_dims(blend_weight, axis=-1)).sum(axis=0),\n",
    "            dtype=self.dtype,\n",
    "            )\n",
    "        blend_young = torch.tensor(\n",
    "            (np.array(list(self.material_youngs.values())) * blend_weight).sum(),\n",
    "            dtype=self.dtype,\n",
    "            )\n",
    "\n",
    "        # load footprint image and slice as per-sensor stacks\n",
    "        def get_img_stack(foot: str):\n",
    "            img = Image.open(self.footprint_wrap_folder / f'{subject}-{foot}.jpg')\n",
    "            img_arr = np.mean(1 - np.array(img).astype(np.float64) / 255, axis=-1)\n",
    "            img_stack = img_arr[self.x_grid[foot], self.y_grid[foot]]\n",
    "            img_stack = torch.tensor(img_stack, dtype=self.dtype)\n",
    "            img_stack = transforms.Resize((10, 10))(img_stack)\n",
    "            return img_stack\n",
    "        \n",
    "        l_stack = get_img_stack('L')\n",
    "        r_stack = get_img_stack('R')\n",
    "        img_stack = torch.concat([l_stack, r_stack])\n",
    "\n",
    "        return (img_stack, blend_young), blend_pedar"
   ]
  },
  {
   "cell_type": "code",
   "execution_count": 50,
   "metadata": {},
   "outputs": [
    {
     "data": {
      "text/plain": [
       "50"
      ]
     },
     "execution_count": 50,
     "metadata": {},
     "output_type": "execute_result"
    }
   ],
   "source": [
    "from src.tool.registry import DATASET_REGISTRY\n",
    "\n",
    "self = Pedar_Dataset_footprint2pressure(\n",
    "    footprint_wrap_folder = '../../data/processed/footprint-wrap',\n",
    "    pedar_dynamic = '../../data/processed/pedar_dynamic.pkl',\n",
    "    l_mask_path = '../../data/processed/left_foot_mask.png',\n",
    ")\n",
    "len(self)"
   ]
  },
  {
   "cell_type": "code",
   "execution_count": 51,
   "metadata": {},
   "outputs": [
    {
     "data": {
      "text/plain": [
       "tensor(1.6202)"
      ]
     },
     "execution_count": 51,
     "metadata": {},
     "output_type": "execute_result"
    }
   ],
   "source": [
    "(sensor_stack, youngs_modulus), arr_pedar = self.__getitem__(3)\n",
    "youngs_modulus"
   ]
  },
  {
   "cell_type": "code",
   "execution_count": 56,
   "metadata": {},
   "outputs": [
    {
     "name": "stdout",
     "output_type": "stream",
     "text": [
      "torch.Size([198, 10, 10])\n"
     ]
    },
    {
     "data": {
      "image/png": "[encoded data removed]",
      "text/plain": [
       "<Figure size 640x480 with 1 Axes>"
      ]
     },
     "metadata": {},
     "output_type": "display_data"
    }
   ],
   "source": [
    "from matplotlib import pyplot as plt\n",
    "\n",
    "print(sensor_stack.shape)\n",
    "plt.imshow(sensor_stack[99].cpu().detach().numpy())\n",
    "plt.show()"
   ]
  },
  {
   "cell_type": "code",
   "execution_count": 57,
   "metadata": {},
   "outputs": [
    {
     "data": {
      "image/png": "[encoded data removed]",
      "text/plain": [
       "<Figure size 640x480 with 4 Axes>"
      ]
     },
     "metadata": {},
     "output_type": "display_data"
    }
   ],
   "source": [
    "from src.tool import visual\n",
    "\n",
    "visual.draw_heatmap(arr_pedar * 600, '../../data/processed/left_foot_mask.png')"
   ]
  },
  {
   "cell_type": "code",
   "execution_count": null,
   "metadata": {},
   "outputs": [],
   "source": []
  }
 ],
 "metadata": {
  "kernelspec": {
   "display_name": "pytorch",
   "language": "python",
   "name": "python3"
  },
  "language_info": {
   "codemirror_mode": {
    "name": "ipython",
    "version": 3
   },
   "file_extension": ".py",
   "mimetype": "text/x-python",
   "name": "python",
   "nbconvert_exporter": "python",
   "pygments_lexer": "ipython3",
   "version": "3.9.16"
  }
 },
 "nbformat": 4,
 "nbformat_minor": 2
}
