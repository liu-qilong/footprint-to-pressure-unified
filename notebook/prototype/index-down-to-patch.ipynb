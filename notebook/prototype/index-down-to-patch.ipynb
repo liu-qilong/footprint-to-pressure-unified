{
 "cells": [
  {
   "cell_type": "code",
   "execution_count": 150,
   "metadata": {},
   "outputs": [],
   "source": [
    "import sys\n",
    "sys.path.append('../..')"
   ]
  },
  {
   "cell_type": "code",
   "execution_count": 151,
   "metadata": {},
   "outputs": [],
   "source": [
    "import torch\n",
    "\n",
    "if torch.cuda.is_available():\n",
    "    device = 'cuda'\n",
    "if torch.backends.mps.is_available():\n",
    "    device = 'mps'\n",
    "else:\n",
    "    device = 'cpu'"
   ]
  },
  {
   "cell_type": "markdown",
   "metadata": {},
   "source": [
    "## Dataset"
   ]
  },
  {
   "cell_type": "code",
   "execution_count": 166,
   "metadata": {},
   "outputs": [],
   "source": [
    "import os\n",
    "import numpy as np\n",
    "from torchvision import transforms\n",
    "from PIL import Image, ImageOps\n",
    "\n",
    "from src.dataset.footprint2pressure import Footprint2Pressure_Blend\n",
    "\n",
    "# @DATASET_REGISTRY.register()\n",
    "class Footprint2Pressure_Blend_SensorPatch(Footprint2Pressure_Blend):\n",
    "    def __init__(self, *args, **kwargs):\n",
    "        super().__init__(*args, **kwargs)\n",
    "        \n",
    "        # transformer for resizing images\n",
    "        self.resize = transforms.Resize((self.img_size, self.img_size))\n",
    "\n",
    "        # data indexing\n",
    "        self.index = []\n",
    "\n",
    "        for subject in self.pedar_dynamic.index.get_level_values(1).drop_duplicates():\n",
    "            if os.path.isfile(self.footprint_wrap_folder / f'{subject}-L.jpg'):\n",
    "                for patch_id in range(1, 199):\n",
    "                    self.index.append((subject, patch_id))\n",
    "        \n",
    "    \n",
    "    def __getitem__(self, index: int, blend_weight: np.array = None) -> tuple:\n",
    "        subject, sensor_id = self.index[index]\n",
    "        \n",
    "        # blend weights\n",
    "        if blend_weight is None:\n",
    "            blend_weight = np.random.rand(5)\n",
    "            blend_weight = blend_weight / blend_weight.sum()\n",
    "\n",
    "        # weight blends young modulus & pedar arrays\n",
    "        arr_pedar = self.pedar_dynamic.loc[(slice(None), subject), sensor_id].values / self.sense_range\n",
    "        blend_pedar = torch.tensor(\n",
    "            (arr_pedar * blend_weight).sum(axis=0),\n",
    "            dtype=self.dtype,\n",
    "            )\n",
    "        blend_young = torch.tensor(\n",
    "            (np.array(list(self.material_youngs.values())) * blend_weight).sum(),\n",
    "            dtype=self.dtype,\n",
    "            )\n",
    "        \n",
    "        # load footprint image and slice out the sensor-specific patch\n",
    "        if sensor_id < 99:\n",
    "            img = Image.open(self.footprint_wrap_folder / f'{subject}-L.jpg')\n",
    "            img_arr = np.mean(1 - np.array(img).astype(np.float64) / 255, axis=-1)\n",
    "            img_patch = img_arr[self.x_grid['L'][sensor_id - 1], self.y_grid['L'][sensor_id - 1]]\n",
    "\n",
    "        else:\n",
    "            img = Image.open(self.footprint_wrap_folder / f'{subject}-R.jpg')\n",
    "            img_arr = np.mean(1 - np.array(img).astype(np.float64) / 255, axis=-1)\n",
    "            img_patch = img_arr[self.x_grid['L'][sensor_id - 1 - 99], self.y_grid['L'][sensor_id - 1 - 99]]\n",
    "        \n",
    "        img_patch = self.resize(\n",
    "            torch.tensor(img_patch, dtype=self.dtype).unsqueeze(0)\n",
    "            )[0]\n",
    "        \n",
    "        return (img_patch.to(self.device), torch.tensor(sensor_id, dtype=self.dtype).to(self.device), blend_young.to(self.device)), blend_pedar.to(self.device)"
   ]
  },
  {
   "cell_type": "code",
   "execution_count": 167,
   "metadata": {},
   "outputs": [
    {
     "data": {
      "text/plain": [
       "9900"
      ]
     },
     "execution_count": 167,
     "metadata": {},
     "output_type": "execute_result"
    }
   ],
   "source": [
    "self = Footprint2Pressure_Blend_SensorPatch(\n",
    "    device = device,\n",
    "    footprint_wrap_folder = '../../data/processed/footprint-wrap/',\n",
    "    pedar_dynamic_path = '../../data/processed/pedar_dynamic.pkl',\n",
    "    l_mask_path = '../../data/processed/left_foot_mask.png',\n",
    "    sense_range = 600,\n",
    "    stack_range = 50,\n",
    "    img_size = 10,\n",
    ")\n",
    "len(self)"
   ]
  },
  {
   "cell_type": "code",
   "execution_count": 193,
   "metadata": {},
   "outputs": [
    {
     "data": {
      "text/plain": [
       "9.66796875"
      ]
     },
     "execution_count": 193,
     "metadata": {},
     "output_type": "execute_result"
    }
   ],
   "source": [
    "9900 / 1024"
   ]
  },
  {
   "cell_type": "markdown",
   "metadata": {},
   "source": [
    "## Data point"
   ]
  },
  {
   "cell_type": "code",
   "execution_count": 173,
   "metadata": {},
   "outputs": [
    {
     "data": {
      "text/plain": [
       "(torch.Size([10, 10]),\n",
       " tensor(1., device='mps:0'),\n",
       " tensor(2.2841, device='mps:0'),\n",
       " tensor(0.0575, device='mps:0'))"
      ]
     },
     "execution_count": 173,
     "metadata": {},
     "output_type": "execute_result"
    }
   ],
   "source": [
    "(img_patch, sensor_id, blend_young), blend_pedar = self.__getitem__(0)\n",
    "img_patch.shape, sensor_id, blend_young, blend_pedar"
   ]
  },
  {
   "cell_type": "code",
   "execution_count": 174,
   "metadata": {},
   "outputs": [
    {
     "data": {
      "image/png": "[encoded data removed]",
      "text/plain": [
       "<Figure size 640x480 with 1 Axes>"
      ]
     },
     "metadata": {},
     "output_type": "display_data"
    }
   ],
   "source": [
    "from matplotlib import pyplot as plt\n",
    "\n",
    "plt.imshow(img_patch.cpu().detach().numpy())\n",
    "plt.show()"
   ]
  },
  {
   "cell_type": "markdown",
   "metadata": {},
   "source": [
    "## MLP adapted"
   ]
  },
  {
   "cell_type": "code",
   "execution_count": 183,
   "metadata": {},
   "outputs": [],
   "source": [
    "import torch\n",
    "from torch import nn\n",
    "\n",
    "from src.model import pos_emb\n",
    "from src.tool.registry import MODEL_REGISTRY\n",
    "\n",
    "from src.model.mlp import MLP_cos_emb\n",
    "\n",
    "# @MODEL_REGISTRY.register()\n",
    "class PatchMLP_cos_emb(MLP_cos_emb):\n",
    "    def forward(self, x):\n",
    "        img_patch, sensor_id, young = x\n",
    "        \n",
    "        # reshape img_stack\n",
    "        infer_shape = img_patch.shape[:-2] + (self.img_size * self.img_size,)  # e.g. (..., 10, 10) -> (..., 100)\n",
    "        img_patch = img_patch.reshape(infer_shape)\n",
    "\n",
    "        # positional embedding\n",
    "        pos_emb = self.position_embedding(sensor_id)  # e.g. (50,) -> (..., 50)\n",
    "        pos_emb = pos_emb.expand(img_patch.shape[:-1] + (-1,))  # e.g. (..., 50) -> (..., 50)\n",
    "\n",
    "        # youngs' modulus embedding\n",
    "        young_emb = self.young_embedding(young)  # (50,) -> (..., 50)\n",
    "\n",
    "        x = torch.cat([img_patch, pos_emb, young_emb], dim=-1)\n",
    "        \n",
    "        return self.mlp(x).squeeze(-1)"
   ]
  },
  {
   "cell_type": "code",
   "execution_count": 184,
   "metadata": {},
   "outputs": [],
   "source": [
    "model = PatchMLP_cos_emb(device=device)"
   ]
  },
  {
   "cell_type": "code",
   "execution_count": 185,
   "metadata": {},
   "outputs": [
    {
     "data": {
      "text/plain": [
       "tensor(-0.0217, device='mps:0', grad_fn=<SqueezeBackward1>)"
      ]
     },
     "execution_count": 185,
     "metadata": {},
     "output_type": "execute_result"
    }
   ],
   "source": [
    "model((img_patch, sensor_id, blend_young))"
   ]
  },
  {
   "cell_type": "code",
   "execution_count": null,
   "metadata": {},
   "outputs": [],
   "source": []
  }
 ],
 "metadata": {
  "kernelspec": {
   "display_name": "pytorch",
   "language": "python",
   "name": "python3"
  },
  "language_info": {
   "codemirror_mode": {
    "name": "ipython",
    "version": 3
   },
   "file_extension": ".py",
   "mimetype": "text/x-python",
   "name": "python",
   "nbconvert_exporter": "python",
   "pygments_lexer": "ipython3",
   "version": "3.9.16"
  }
 },
 "nbformat": 4,
 "nbformat_minor": 2
}
