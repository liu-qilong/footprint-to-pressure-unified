{
 "cells": [
  {
   "cell_type": "code",
   "execution_count": null,
   "metadata": {},
   "outputs": [],
   "source": [
    "%cd ../.."
   ]
  },
  {
   "cell_type": "code",
   "execution_count": 2,
   "metadata": {},
   "outputs": [],
   "source": [
    "import torch\n",
    "\n",
    "torch.manual_seed(0)\n",
    "\n",
    "if torch.cuda.is_available():\n",
    "    device = 'cuda'\n",
    "if torch.backends.mps.is_available():\n",
    "    device = 'mps'\n",
    "else:\n",
    "    device = 'cpu'"
   ]
  },
  {
   "cell_type": "markdown",
   "metadata": {},
   "source": [
    "## Statistical metrics"
   ]
  },
  {
   "cell_type": "code",
   "execution_count": null,
   "metadata": {},
   "outputs": [],
   "source": [
    "import torch\n",
    "from torch import nn\n",
    "\n",
    "class MeanDiffRatio(nn.Module):\n",
    "    def forward(self, y_pred: torch.Tensor, y_true: torch.Tensor):\n",
    "        return (y_pred.mean() - y_true.mean()) / y_true.mean()\n",
    "    \n",
    "metric = MeanDiffRatio()\n",
    "metric(torch.tensor([1, 1.5, 3.], device=device), torch.tensor([1., 2., 3.], device=device))"
   ]
  },
  {
   "cell_type": "code",
   "execution_count": null,
   "metadata": {},
   "outputs": [],
   "source": [
    "import torch\n",
    "from torch import nn\n",
    "\n",
    "class StdDiffRatio(nn.Module):\n",
    "    def forward(self, y_pred: torch.Tensor, y_true: torch.Tensor):\n",
    "        return (y_pred.std() - y_true.std()) / y_true.std()\n",
    "    \n",
    "metric = StdDiffRatio(device=device)\n",
    "metric(torch.tensor([2., 2., 2.], device=device), torch.tensor([0., 2., 3.], device=device))"
   ]
  },
  {
   "cell_type": "markdown",
   "metadata": {},
   "source": [
    "## Example output metrics"
   ]
  },
  {
   "cell_type": "code",
   "execution_count": 61,
   "metadata": {},
   "outputs": [],
   "source": [
    "import os\n",
    "import torch\n",
    "from torch import nn\n",
    "from src.tool import visual\n",
    "\n",
    "class PedarHeatmap(nn.Module):\n",
    "    def __init__(\n",
    "            self,\n",
    "            opt,\n",
    "            mask_path: str = 'data/processed/left_foot_mask.png',\n",
    "            sense_range: float = 600,\n",
    "            export_folder: str = 'sample',\n",
    "            ):\n",
    "        super().__init__()\n",
    "        self.opt = opt\n",
    "        self.mask_path = mask_path\n",
    "        self.sense_range = sense_range\n",
    "        self.export_folder = export_folder\n",
    "\n",
    "        # check if the export directory exists\n",
    "        # if not, create it\n",
    "        export_dir = f'{self.opt.path}/{self.export_folder}'\n",
    "        \n",
    "        if not os.path.exists(export_dir):\n",
    "            os.makedirs(export_dir)\n",
    "\n",
    "    def forward(self, y_pred: torch.Tensor, y_true: torch.Tensor, dataset_name: str, batch: int):\n",
    "        # export prediction samples\n",
    "        for idx, y in enumerate(y_pred.reshape(-1, 198)):\n",
    "            visual.draw_heatmap(\n",
    "                arr=y.cpu().detach().numpy() * self.sense_range,\n",
    "                l_mask_path=self.mask_path,\n",
    "                is_show=False,\n",
    "                is_export=True,\n",
    "                export_path=f'{self.opt.path}/{self.export_folder}/{dataset_name}-{batch}-{idx}-pred.png',\n",
    "                )\n",
    "        \n",
    "        # export groud-truth samples\n",
    "        for idx, y in enumerate(y_true.reshape(-1, 198)):\n",
    "            visual.draw_heatmap(\n",
    "                arr=y.cpu().detach().numpy() * self.sense_range,\n",
    "                l_mask_path=self.mask_path,\n",
    "                is_show=False,\n",
    "                is_export=True,\n",
    "                export_path=f'{self.opt.path}/{self.export_folder}/{dataset_name}-{batch}-{idx}-true.png',\n",
    "                )"
   ]
  },
  {
   "cell_type": "code",
   "execution_count": 62,
   "metadata": {},
   "outputs": [],
   "source": [
    "from src.tool import config\n",
    "\n",
    "opt = config.load_config('experiment/mlp-0924')\n",
    "opt.path = 'notebook/prototype/output'\n",
    "metric = PedarHeatmap(opt)"
   ]
  },
  {
   "cell_type": "code",
   "execution_count": null,
   "metadata": {},
   "outputs": [],
   "source": [
    "y_pred, y_true = torch.randn(2, 5, 198), torch.randn(2, 5, 198)\n",
    "metric(y_pred, y_true, 'train', 0)"
   ]
  },
  {
   "cell_type": "code",
   "execution_count": null,
   "metadata": {},
   "outputs": [],
   "source": []
  }
 ],
 "metadata": {
  "kernelspec": {
   "display_name": "pytorch",
   "language": "python",
   "name": "python3"
  },
  "language_info": {
   "codemirror_mode": {
    "name": "ipython",
    "version": 3
   },
   "file_extension": ".py",
   "mimetype": "text/x-python",
   "name": "python",
   "nbconvert_exporter": "python",
   "pygments_lexer": "ipython3",
   "version": "3.9.16"
  }
 },
 "nbformat": 4,
 "nbformat_minor": 2
}
