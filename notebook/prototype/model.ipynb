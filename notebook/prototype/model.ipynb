{
 "cells": [
  {
   "cell_type": "code",
   "execution_count": 1,
   "metadata": {},
   "outputs": [],
   "source": [
    "import sys\n",
    "sys.path.append('../..')"
   ]
  },
  {
   "cell_type": "code",
   "execution_count": 2,
   "metadata": {},
   "outputs": [],
   "source": [
    "import torch\n",
    "\n",
    "if torch.cuda.is_available():\n",
    "    device = 'cuda'\n",
    "if torch.backends.mps.is_available():\n",
    "    device = 'mps'\n",
    "else:\n",
    "    device = 'cpu'"
   ]
  },
  {
   "cell_type": "markdown",
   "metadata": {},
   "source": [
    "## Dataset & dataloader"
   ]
  },
  {
   "cell_type": "code",
   "execution_count": 3,
   "metadata": {},
   "outputs": [],
   "source": [
    "from src.tool.registry import DATASET_REGISTRY\n",
    "\n",
    "dataset = DATASET_REGISTRY['Pedar_Dataset_footprint2pressure'](\n",
    "    device=device,\n",
    "    footprint_wrap_folder = '../../data/processed/footprint-wrap',\n",
    "    pedar_dynamic = '../../data/processed/pedar_dynamic.pkl',\n",
    "    l_mask_path = '../../data/processed/left_foot_mask.png',\n",
    ")"
   ]
  },
  {
   "cell_type": "code",
   "execution_count": 4,
   "metadata": {},
   "outputs": [
    {
     "data": {
      "text/plain": [
       "(40, 10)"
      ]
     },
     "execution_count": 4,
     "metadata": {},
     "output_type": "execute_result"
    }
   ],
   "source": [
    "from torch.utils.data import random_split\n",
    "\n",
    "train_dataset, test_dataset = random_split(dataset, [0.8, 0.2])\n",
    "len(train_dataset), len(test_dataset)"
   ]
  },
  {
   "cell_type": "code",
   "execution_count": 5,
   "metadata": {},
   "outputs": [],
   "source": [
    "from src.tool.registry import DATALOADER_REGISTRY\n",
    "\n",
    "train_dataloader = DATALOADER_REGISTRY['DataLoader'](train_dataset, batch_size=32, shuffle=True)\n",
    "test_dataloader = DATALOADER_REGISTRY['DataLoader'](test_dataset, batch_size=32, shuffle=True)"
   ]
  },
  {
   "cell_type": "code",
   "execution_count": 6,
   "metadata": {},
   "outputs": [
    {
     "data": {
      "application/vnd.jupyter.widget-view+json": {
       "model_id": "e84dbbf76d664de4b9b0a0bba2c1f57d",
       "version_major": 2,
       "version_minor": 0
      },
      "text/plain": [
       "0it [00:00, ?it/s]"
      ]
     },
     "metadata": {},
     "output_type": "display_data"
    }
   ],
   "source": [
    "from tqdm.auto import tqdm\n",
    "\n",
    "for batch, (x, y) in tqdm(enumerate(train_dataloader)):\n",
    "    pass"
   ]
  },
  {
   "cell_type": "code",
   "execution_count": 8,
   "metadata": {},
   "outputs": [
    {
     "data": {
      "text/plain": [
       "(torch.Size([8, 198, 10, 10]), device(type='mps', index=0))"
      ]
     },
     "execution_count": 8,
     "metadata": {},
     "output_type": "execute_result"
    }
   ],
   "source": [
    "x[0].shape, x[0].device"
   ]
  },
  {
   "cell_type": "markdown",
   "metadata": {},
   "source": [
    "## MLP prototype"
   ]
  },
  {
   "cell_type": "code",
   "execution_count": 9,
   "metadata": {},
   "outputs": [],
   "source": [
    "import torch\n",
    "from torch import nn\n",
    "\n",
    "from src.tool.registry import MODEL_REGISTRY\n",
    "\n",
    "# @MODEL_REGISTRY.register()\n",
    "class MLP(nn.Module):\n",
    "    def __init__(self, device, img_width: int = 10):\n",
    "        super().__init__()\n",
    "        self.device = device\n",
    "        self.img_width = img_width\n",
    "        \n",
    "        self.position_embedding = nn.Embedding(99, int(self.img_width * self.img_width / 2))\n",
    "        self.young_embedding = nn.Linear(1, int(self.img_width * self.img_width / 2))\n",
    "\n",
    "        self.model = nn.Sequential(\n",
    "            nn.Linear(self.img_width * self.img_width * 2, 256),\n",
    "            nn.Sigmoid(),\n",
    "            nn.Linear(256, 512),\n",
    "            nn.Sigmoid(),\n",
    "            nn.Linear(512, 256),\n",
    "            nn.Sigmoid(),\n",
    "            nn.Linear(256, 128),\n",
    "            nn.Sigmoid(),\n",
    "            nn.Linear(128, 1),\n",
    "        )\n",
    "\n",
    "        # remember to send model to device!\n",
    "        self.to(self.device)\n",
    "\n",
    "    def forward(self, x):\n",
    "        img_stack, young = x\n",
    "        \n",
    "        # reshape img_stack\n",
    "        infer_shape = img_stack.shape[:-2] + (self.img_width * self.img_width,)  # e.g. (..., 198, 10, 10) -> (..., 198, 100)\n",
    "        img_stack = img_stack.reshape(infer_shape)\n",
    "\n",
    "        # positional embedding\n",
    "        pos_arr = torch.concat([\n",
    "            torch.arange(99, device=self.device),\n",
    "            torch.arange(99, device=self.device),\n",
    "            ], dim=-1,\n",
    "        )\n",
    "        pos_emb = self.position_embedding(pos_arr)\n",
    "        pos_emb = pos_emb.expand(img_stack.shape[:-1] + (-1,))  # e.g. (198, 50) -> (..., 198, 50)\n",
    "\n",
    "        # youngs' modulus embedding\n",
    "        young_emb = self.young_embedding(young.unsqueeze(-1))\n",
    "        young_emb = young_emb.unsqueeze(-2).expand(img_stack.shape[:-1] + (-1,))  # e.g. (50,) -> (..., 198, 50)\n",
    "\n",
    "        x = torch.cat([img_stack, pos_emb, young_emb], dim=-1)\n",
    "        \n",
    "        return self.model(x).squeeze(-1)"
   ]
  },
  {
   "cell_type": "code",
   "execution_count": 10,
   "metadata": {},
   "outputs": [
    {
     "data": {
      "text/plain": [
       "torch.Size([8, 198])"
      ]
     },
     "execution_count": 10,
     "metadata": {},
     "output_type": "execute_result"
    }
   ],
   "source": [
    "mlp = MLP(device=device)\n",
    "out = mlp(x)\n",
    "out.shape"
   ]
  },
  {
   "cell_type": "code",
   "execution_count": 25,
   "metadata": {},
   "outputs": [
    {
     "data": {
      "text/plain": [
       "tensor(3.0102, device='mps:0')"
      ]
     },
     "execution_count": 25,
     "metadata": {},
     "output_type": "execute_result"
    }
   ],
   "source": [
    "batch = 0\n",
    "\n",
    "x[1][batch]"
   ]
  },
  {
   "cell_type": "code",
   "execution_count": 26,
   "metadata": {},
   "outputs": [
    {
     "data": {
      "image/png": "[encoded data removed]",
      "text/plain": [
       "<Figure size 640x480 with 1 Axes>"
      ]
     },
     "metadata": {},
     "output_type": "display_data"
    }
   ],
   "source": [
    "from matplotlib import pyplot as plt\n",
    "\n",
    "sensor = 10\n",
    "plt.imshow(x[0][batch][sensor].cpu().detach().numpy())\n",
    "plt.show()"
   ]
  },
  {
   "cell_type": "code",
   "execution_count": 34,
   "metadata": {},
   "outputs": [
    {
     "data": {
      "image/png": "[encoded data removed]",
      "text/plain": [
       "<Figure size 640x480 with 4 Axes>"
      ]
     },
     "metadata": {},
     "output_type": "display_data"
    }
   ],
   "source": [
    "from src.tool import visual\n",
    "\n",
    "visual.draw_heatmap(\n",
    "    out[batch].cpu().detach().numpy() * dataset.sense_range,\n",
    "    '../../data/processed/left_foot_mask.png',\n",
    "    )"
   ]
  },
  {
   "cell_type": "code",
   "execution_count": null,
   "metadata": {},
   "outputs": [],
   "source": []
  }
 ],
 "metadata": {
  "kernelspec": {
   "display_name": "pytorch",
   "language": "python",
   "name": "python3"
  },
  "language_info": {
   "codemirror_mode": {
    "name": "ipython",
    "version": 3
   },
   "file_extension": ".py",
   "mimetype": "text/x-python",
   "name": "python",
   "nbconvert_exporter": "python",
   "pygments_lexer": "ipython3",
   "version": "3.9.16"
  }
 },
 "nbformat": 4,
 "nbformat_minor": 2
}
