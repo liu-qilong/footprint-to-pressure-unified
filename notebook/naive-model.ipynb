{
 "cells": [
  {
   "cell_type": "code",
   "execution_count": 1,
   "metadata": {},
   "outputs": [],
   "source": [
    "import sys\n",
    "sys.path.append('..')"
   ]
  },
  {
   "cell_type": "code",
   "execution_count": 2,
   "metadata": {},
   "outputs": [],
   "source": [
    "import torch\n",
    "\n",
    "if torch.cuda.is_available():\n",
    "    device = 'cuda'\n",
    "if torch.backends.mps.is_available():\n",
    "    device = 'mps'\n",
    "else:\n",
    "    device = 'cpu'"
   ]
  },
  {
   "cell_type": "code",
   "execution_count": 3,
   "metadata": {},
   "outputs": [],
   "source": [
    "from src.dataset.footprint2pressure import Footprint2Pressure\n",
    "\n",
    "dataset = Footprint2Pressure(\n",
    "    device = device,\n",
    "    footprint_wrap_folder = '..data/processed/footprint-wrap',\n",
    "    pedar_dynamic_path = '..data/processed/pedar_dynamic.pkl',\n",
    "    l_mask_path = '..data/processed/left_foot_mask.png',\n",
    ")"
   ]
  },
  {
   "cell_type": "code",
   "execution_count": 28,
   "metadata": {},
   "outputs": [
    {
     "data": {
      "text/plain": [
       "torch.Size([300, 198])"
      ]
     },
     "execution_count": 28,
     "metadata": {},
     "output_type": "execute_result"
    }
   ],
   "source": [
    "pedar_arr = dataset.pedar_dynamic.to_numpy() / dataset.sense_range\n",
    "pedar_arr_t = torch.Tensor(pedar_arr).to(device)\n",
    "pedar_arr_t.shape"
   ]
  },
  {
   "cell_type": "markdown",
   "metadata": {},
   "source": [
    "## Naive model: average array"
   ]
  },
  {
   "cell_type": "code",
   "execution_count": 29,
   "metadata": {},
   "outputs": [
    {
     "data": {
      "text/plain": [
       "torch.Size([300, 198])"
      ]
     },
     "execution_count": 29,
     "metadata": {},
     "output_type": "execute_result"
    }
   ],
   "source": [
    "pedar_arr_mean = dataset.pedar_dynamic.mean().to_numpy() / dataset.sense_range\n",
    "pedar_arr_mean_t = torch.Tensor(pedar_arr_mean).expand(pedar_arr_t.shape).to(device)\n",
    "pedar_arr_mean_t.shape"
   ]
  },
  {
   "cell_type": "code",
   "execution_count": 33,
   "metadata": {},
   "outputs": [
    {
     "data": {
      "text/plain": [
       "{'MAE': tensor(0.0299, device='mps:0'), 'MSE': tensor(0.0018, device='mps:0')}"
      ]
     },
     "execution_count": 33,
     "metadata": {},
     "output_type": "execute_result"
    }
   ],
   "source": [
    "from torch.nn import L1Loss, MSELoss\n",
    "\n",
    "{\n",
    "    'MAE': L1Loss()(pedar_arr_t, pedar_arr_mean_t),\n",
    "    'MSE': MSELoss()(pedar_arr_t, pedar_arr_mean_t),\n",
    "}"
   ]
  },
  {
   "cell_type": "markdown",
   "metadata": {},
   "source": [
    "## Naive model: average value"
   ]
  },
  {
   "cell_type": "code",
   "execution_count": 45,
   "metadata": {},
   "outputs": [
    {
     "data": {
      "text/plain": [
       "torch.Size([300, 198])"
      ]
     },
     "execution_count": 45,
     "metadata": {},
     "output_type": "execute_result"
    }
   ],
   "source": [
    "pedar_mean = pedar_arr_mean.mean()\n",
    "pedar_mean_t = torch.Tensor([pedar_mean]).expand(pedar_arr_t.shape).to(device)\n",
    "pedar_mean_t.shape"
   ]
  },
  {
   "cell_type": "code",
   "execution_count": 46,
   "metadata": {},
   "outputs": [
    {
     "data": {
      "text/plain": [
       "{'MAE': tensor(0.0462, device='mps:0'), 'MSE': tensor(0.0037, device='mps:0')}"
      ]
     },
     "execution_count": 46,
     "metadata": {},
     "output_type": "execute_result"
    }
   ],
   "source": [
    "{\n",
    "    'MAE': L1Loss()(pedar_arr_t, pedar_mean_t),\n",
    "    'MSE': MSELoss()(pedar_arr_t, pedar_mean_t),\n",
    "}"
   ]
  },
  {
   "cell_type": "code",
   "execution_count": null,
   "metadata": {},
   "outputs": [],
   "source": []
  }
 ],
 "metadata": {
  "kernelspec": {
   "display_name": "pytorch",
   "language": "python",
   "name": "python3"
  },
  "language_info": {
   "codemirror_mode": {
    "name": "ipython",
    "version": 3
   },
   "file_extension": ".py",
   "mimetype": "text/x-python",
   "name": "python",
   "nbconvert_exporter": "python",
   "pygments_lexer": "ipython3",
   "version": "3.9.16"
  }
 },
 "nbformat": 4,
 "nbformat_minor": 2
}
