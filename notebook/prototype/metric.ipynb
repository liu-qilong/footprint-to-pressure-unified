{
 "cells": [
  {
   "cell_type": "code",
   "execution_count": 1,
   "metadata": {},
   "outputs": [
    {
     "name": "stdout",
     "output_type": "stream",
     "text": [
      "/Users/knpob/Territory/Kolmo/code/footprint-to-pressure-unified\n"
     ]
    }
   ],
   "source": [
    "%cd ../.."
   ]
  },
  {
   "cell_type": "code",
   "execution_count": 2,
   "metadata": {},
   "outputs": [],
   "source": [
    "import torch\n",
    "\n",
    "torch.manual_seed(0)\n",
    "\n",
    "if torch.cuda.is_available():\n",
    "    device = 'cuda'\n",
    "if torch.backends.mps.is_available():\n",
    "    device = 'mps'\n",
    "else:\n",
    "    device = 'cpu'"
   ]
  },
  {
   "cell_type": "markdown",
   "metadata": {},
   "source": [
    "## Statistical metrics"
   ]
  },
  {
   "cell_type": "code",
   "execution_count": 28,
   "metadata": {},
   "outputs": [
    {
     "data": {
      "text/plain": [
       "tensor(-0.0833, device='mps:0')"
      ]
     },
     "execution_count": 28,
     "metadata": {},
     "output_type": "execute_result"
    }
   ],
   "source": [
    "import torch\n",
    "from torch import nn\n",
    "\n",
    "class MeanDiffRatio(nn.Module):\n",
    "    def forward(self, y_pred: torch.Tensor, y_gt: torch.Tensor):\n",
    "        return (y_pred.mean() - y_gt.mean()) / y_gt.mean()\n",
    "    \n",
    "metric = MeanDiffRatio()\n",
    "metric(torch.tensor([1, 1.5, 3.], device=device), torch.tensor([1., 2., 3.], device=device))"
   ]
  },
  {
   "cell_type": "code",
   "execution_count": 21,
   "metadata": {},
   "outputs": [
    {
     "name": "stdout",
     "output_type": "stream",
     "text": [
      "tensor(0., device='mps:0') tensor(1.5275, device='mps:0')\n"
     ]
    },
    {
     "data": {
      "text/plain": [
       "tensor(-1., device='mps:0')"
      ]
     },
     "execution_count": 21,
     "metadata": {},
     "output_type": "execute_result"
    }
   ],
   "source": [
    "import torch\n",
    "from torch import nn\n",
    "\n",
    "class StdDiffRatio(nn.Module):\n",
    "    def __init__(self, device):\n",
    "        super().__init__()\n",
    "        self.device = device\n",
    "        \n",
    "        # remember to send model to device!\n",
    "        self.to(self.device)\n",
    "\n",
    "    def forward(self, y_pred: torch.Tensor, y_gt: torch.Tensor):\n",
    "        print(y_pred.std(), y_gt.std())\n",
    "        return (y_pred.std() - y_gt.std()) / y_gt.std()\n",
    "    \n",
    "metric = StdDiffRatio(device=device)\n",
    "metric(torch.tensor([2., 2., 2.], device=device), torch.tensor([0., 2., 3.], device=device))"
   ]
  },
  {
   "cell_type": "markdown",
   "metadata": {},
   "source": [
    "## Example output metrics"
   ]
  },
  {
   "cell_type": "code",
   "execution_count": null,
   "metadata": {},
   "outputs": [],
   "source": []
  }
 ],
 "metadata": {
  "kernelspec": {
   "display_name": "pytorch",
   "language": "python",
   "name": "python3"
  },
  "language_info": {
   "codemirror_mode": {
    "name": "ipython",
    "version": 3
   },
   "file_extension": ".py",
   "mimetype": "text/x-python",
   "name": "python",
   "nbconvert_exporter": "python",
   "pygments_lexer": "ipython3",
   "version": "3.9.16"
  }
 },
 "nbformat": 4,
 "nbformat_minor": 2
}
