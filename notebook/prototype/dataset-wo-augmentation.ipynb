{
 "cells": [
  {
   "cell_type": "code",
   "execution_count": 1,
   "metadata": {},
   "outputs": [],
   "source": [
    "import sys\n",
    "sys.path.append('../..')"
   ]
  },
  {
   "cell_type": "code",
   "execution_count": 2,
   "metadata": {},
   "outputs": [],
   "source": [
    "import torch\n",
    "\n",
    "if torch.cuda.is_available():\n",
    "    device = 'cuda'\n",
    "if torch.backends.mps.is_available():\n",
    "    device = 'mps'\n",
    "else:\n",
    "    device = 'cpu'"
   ]
  },
  {
   "cell_type": "code",
   "execution_count": 3,
   "metadata": {},
   "outputs": [],
   "source": [
    "import numpy as np\n",
    "from PIL import Image\n",
    "\n",
    "import torch\n",
    "from torch.utils.data import Dataset\n",
    "from torchvision import transforms\n",
    "\n",
    "from src.dataset.footprint2pressure import Footprint2Pressure"
   ]
  },
  {
   "cell_type": "markdown",
   "metadata": {},
   "source": [
    "## Sensor stacks"
   ]
  },
  {
   "cell_type": "code",
   "execution_count": 31,
   "metadata": {},
   "outputs": [],
   "source": [
    "class Footprint2Pressure_SensorStack(Footprint2Pressure):\n",
    "    def __init__(self, *args, **kwargs):\n",
    "        super().__init__(*args, **kwargs)\n",
    "\n",
    "        # youngs modulus (MPa)\n",
    "        self.material_youngs = {\n",
    "            'Poron': 0.33,\n",
    "            'PElite': 1.11,\n",
    "            'Lunalight': 5.88,\n",
    "            'Lunanastik': 0.71,\n",
    "            'BF': 0.00,\n",
    "        }\n",
    "\n",
    "        self.resize = transforms.Resize((self.img_size, self.img_size))\n",
    "\n",
    "    def __getitem__(self, idx: int) -> tuple:\n",
    "        # get subject\n",
    "        material = self.index[idx][0]\n",
    "        young = torch.tensor(self.material_youngs[material], dtype=self.dtype)\n",
    "        subject = self.index[idx][1]\n",
    "        \n",
    "        # get young modulus & pedar arrays\n",
    "        arr_pedar = self.pedar_dynamic.loc[material, subject].values / self.sense_range\n",
    "        pedar_t = torch.tensor(arr_pedar, dtype=self.dtype)\n",
    "\n",
    "        # load footprint image and slice as per-sensor stacks\n",
    "        def get_img_stack(foot: str):\n",
    "            img = Image.open(self.footprint_wrap_folder / f'{subject}-{foot}.jpg')\n",
    "            img_arr = np.mean(1 - np.array(img).astype(np.float64) / 255, axis=-1)\n",
    "            img_stack = img_arr[self.x_grid[foot], self.y_grid[foot]]\n",
    "            img_stack = torch.tensor(img_stack, dtype=self.dtype)\n",
    "            img_stack = self.resize(img_stack)\n",
    "            return img_stack\n",
    "        \n",
    "        l_stack = get_img_stack('L')\n",
    "        r_stack = get_img_stack('R')\n",
    "        img_stack = torch.concat([l_stack, r_stack])\n",
    "\n",
    "        # remember to move data to device!\n",
    "        return (img_stack.to(self.device), young.to(self.device)), pedar_t.to(self.device)"
   ]
  },
  {
   "cell_type": "code",
   "execution_count": 32,
   "metadata": {},
   "outputs": [
    {
     "data": {
      "text/plain": [
       "250"
      ]
     },
     "execution_count": 32,
     "metadata": {},
     "output_type": "execute_result"
    }
   ],
   "source": [
    "self = Footprint2Pressure_SensorStack(\n",
    "    device = device,\n",
    "    footprint_wrap_folder = '../../data/processed/footprint-wrap',\n",
    "    pedar_dynamic_path = '../../data/processed/pedar_dynamic.pkl',\n",
    "    l_mask_path = '../../data/processed/left_foot_mask.png',\n",
    ")\n",
    "len(self)"
   ]
  },
  {
   "cell_type": "code",
   "execution_count": 33,
   "metadata": {},
   "outputs": [
    {
     "data": {
      "text/plain": [
       "(torch.Size([198, 10, 10]), tensor(5.8800, device='mps:0'), torch.Size([198]))"
      ]
     },
     "execution_count": 33,
     "metadata": {},
     "output_type": "execute_result"
    }
   ],
   "source": [
    "(img_stack, young), pedar_t = self[100]\n",
    "img_stack.shape, young, pedar_t.shape"
   ]
  },
  {
   "cell_type": "markdown",
   "metadata": {},
   "source": [
    "## Patch stacks"
   ]
  },
  {
   "cell_type": "code",
   "execution_count": null,
   "metadata": {},
   "outputs": [],
   "source": []
  }
 ],
 "metadata": {
  "kernelspec": {
   "display_name": "pytorch",
   "language": "python",
   "name": "python3"
  },
  "language_info": {
   "codemirror_mode": {
    "name": "ipython",
    "version": 3
   },
   "file_extension": ".py",
   "mimetype": "text/x-python",
   "name": "python",
   "nbconvert_exporter": "python",
   "pygments_lexer": "ipython3",
   "version": "3.9.16"
  }
 },
 "nbformat": 4,
 "nbformat_minor": 2
}
