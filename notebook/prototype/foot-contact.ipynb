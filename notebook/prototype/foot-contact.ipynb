{
 "cells": [
  {
   "cell_type": "code",
   "execution_count": 1,
   "metadata": {},
   "outputs": [],
   "source": [
    "import sys\n",
    "sys.path.append('../..')"
   ]
  },
  {
   "cell_type": "markdown",
   "metadata": {},
   "source": [
    "## Load data"
   ]
  },
  {
   "cell_type": "code",
   "execution_count": 2,
   "metadata": {},
   "outputs": [],
   "source": [
    "from src.dataset.static2dynamic import Pedar_Dataset_static2dynamic\n",
    "\n",
    "pedar = Pedar_Dataset_static2dynamic(\n",
    "    pedar_static='../../data/processed/pedar_static.pkl',\n",
    "    pedar_dynamic='../../data/processed/pedar_dynamic.pkl',\n",
    ")"
   ]
  },
  {
   "cell_type": "code",
   "execution_count": 4,
   "metadata": {},
   "outputs": [
    {
     "data": {
      "text/plain": [
       "{0: (array([739, 740, 740, ..., 794, 794, 795]),\n",
       "  array([188, 142, 143, ..., 151, 152, 151])),\n",
       " 1: (array([740, 740, 740, ..., 804, 804, 805]),\n",
       "  array([119, 120, 121, ..., 123, 124, 121])),\n",
       " 2: (array([740, 740, 740, ..., 804, 804, 805]),\n",
       "  array([ 96,  97,  98, ..., 120, 121,  97])),\n",
       " 3: (array([740, 740, 740, ..., 804, 804, 805]),\n",
       "  array([73, 74, 75, ..., 97, 98, 98])),\n",
       " 4: (array([740, 740, 740, ..., 794, 794, 795]),\n",
       "  array([26, 27, 28, ..., 68, 69, 69])),\n",
       " 5: (array([677, 677, 677, ..., 739, 739, 739]),\n",
       "  array([175, 176, 177, ..., 185, 186, 187])),\n",
       " 6: (array([676, 676, 676, ..., 739, 739, 739]),\n",
       "  array([149, 150, 151, ..., 161, 162, 163])),\n",
       " 7: (array([675, 675, 675, ..., 739, 739, 739]),\n",
       "  array([122, 123, 124, ..., 138, 139, 140])),\n",
       " 8: (array([675, 675, 675, ..., 739, 739, 739]),\n",
       "  array([ 95,  96,  97, ..., 116, 117, 118])),\n",
       " 9: (array([675, 675, 675, ..., 739, 739, 740]),\n",
       "  array([71, 72, 73, ..., 94, 95, 95])),\n",
       " 10: (array([675, 675, 675, ..., 739, 739, 739]),\n",
       "  array([46, 47, 48, ..., 69, 70, 71])),\n",
       " 11: (array([676, 676, 676, ..., 739, 739, 740]),\n",
       "  array([18, 19, 20, ..., 47, 48, 25])),\n",
       " 12: (array([616, 616, 616, ..., 676, 676, 676]),\n",
       "  array([178, 179, 180, ..., 199, 200, 201])),\n",
       " 13: (array([617, 617, 617, ..., 675, 675, 675]),\n",
       "  array([151, 152, 153, ..., 171, 172, 173])),\n",
       " 14: (array([617, 617, 617, ..., 674, 674, 675]),\n",
       "  array([122, 123, 124, ..., 147, 148, 148])),\n",
       " 15: (array([618, 618, 618, ..., 674, 674, 674]),\n",
       "  array([ 95,  96,  97, ..., 119, 120, 121])),\n",
       " 16: (array([617, 617, 617, ..., 674, 674, 675]),\n",
       "  array([69, 70, 71, ..., 93, 94, 70])),\n",
       " 17: (array([616, 616, 616, ..., 674, 674, 674]),\n",
       "  array([43, 44, 45, ..., 69, 70, 71])),\n",
       " 18: (array([616, 616, 616, ..., 675, 675, 675]),\n",
       "  array([15, 16, 17, ..., 43, 44, 45])),\n",
       " 19: (array([560, 560, 560, ..., 615, 615, 616]),\n",
       "  array([182, 183, 184, ..., 203, 204, 204])),\n",
       " 20: (array([560, 560, 560, ..., 616, 616, 617]),\n",
       "  array([152, 153, 154, ..., 176, 177, 150])),\n",
       " 21: (array([559, 559, 559, ..., 616, 616, 616]),\n",
       "  array([126, 127, 128, ..., 149, 150, 151])),\n",
       " 22: (array([560, 560, 560, ..., 617, 617, 617]),\n",
       "  array([ 98,  99, 100, ..., 119, 120, 121])),\n",
       " 23: (array([560, 560, 560, ..., 616, 616, 616]),\n",
       "  array([72, 73, 74, ..., 90, 91, 92])),\n",
       " 24: (array([560, 560, 560, ..., 615, 615, 616]),\n",
       "  array([43, 44, 45, ..., 68, 69, 69])),\n",
       " 25: (array([560, 560, 560, ..., 615, 615, 616]),\n",
       "  array([15, 16, 17, ..., 41, 42, 14])),\n",
       " 26: (array([504, 504, 504, ..., 559, 559, 559]),\n",
       "  array([181, 182, 183, ..., 206, 207, 208])),\n",
       " 27: (array([504, 504, 504, ..., 559, 559, 559]),\n",
       "  array([154, 155, 156, ..., 179, 180, 181])),\n",
       " 28: (array([504, 504, 504, ..., 558, 558, 558]),\n",
       "  array([129, 130, 131, ..., 148, 149, 150])),\n",
       " 29: (array([504, 504, 504, ..., 559, 559, 559]),\n",
       "  array([ 99, 100, 101, ..., 123, 124, 125])),\n",
       " 30: (array([504, 504, 504, ..., 559, 559, 560]),\n",
       "  array([71, 72, 73, ..., 97, 98, 71])),\n",
       " 31: (array([504, 504, 504, ..., 559, 559, 560]),\n",
       "  array([46, 47, 48, ..., 70, 71, 42])),\n",
       " 32: (array([505, 505, 505, ..., 559, 559, 559]),\n",
       "  array([15, 16, 17, ..., 39, 40, 41])),\n",
       " 33: (array([448, 448, 448, ..., 503, 503, 503]),\n",
       "  array([184, 185, 186, ..., 208, 209, 210])),\n",
       " 34: (array([447, 447, 447, ..., 503, 503, 503]),\n",
       "  array([159, 160, 161, ..., 178, 179, 180])),\n",
       " 35: (array([447, 447, 447, ..., 503, 503, 504]),\n",
       "  array([130, 131, 132, ..., 153, 154, 128])),\n",
       " 36: (array([448, 448, 448, ..., 503, 503, 503]),\n",
       "  array([102, 103, 104, ..., 127, 128, 129])),\n",
       " 37: (array([448, 448, 448, ..., 503, 503, 504]),\n",
       "  array([71, 72, 73, ..., 97, 98, 98])),\n",
       " 38: (array([448, 448, 448, ..., 503, 503, 503]),\n",
       "  array([46, 47, 48, ..., 69, 70, 71])),\n",
       " 39: (array([447, 448, 448, ..., 504, 504, 504]),\n",
       "  array([14, 14, 15, ..., 43, 44, 45])),\n",
       " 40: (array([395, 395, 395, ..., 447, 447, 447]),\n",
       "  array([189, 190, 191, ..., 211, 212, 213])),\n",
       " 41: (array([395, 395, 395, ..., 446, 446, 446]),\n",
       "  array([161, 162, 163, ..., 182, 183, 184])),\n",
       " 42: (array([394, 394, 394, ..., 446, 446, 446]),\n",
       "  array([133, 134, 135, ..., 156, 157, 158])),\n",
       " 43: (array([395, 395, 395, ..., 447, 447, 447]),\n",
       "  array([102, 103, 104, ..., 127, 128, 129])),\n",
       " 44: (array([395, 395, 395, ..., 447, 447, 448]),\n",
       "  array([ 76,  77,  78, ..., 100, 101, 101])),\n",
       " 45: (array([395, 395, 395, ..., 447, 447, 447]),\n",
       "  array([45, 46, 47, ..., 69, 70, 71])),\n",
       " 46: (array([394, 394, 394, ..., 447, 447, 447]),\n",
       "  array([15, 16, 17, ..., 43, 44, 45])),\n",
       " 47: (array([346, 346, 346, ..., 394, 394, 394]),\n",
       "  array([210, 211, 212, ..., 216, 217, 218])),\n",
       " 48: (array([345, 345, 345, ..., 394, 394, 394]),\n",
       "  array([175, 176, 177, ..., 186, 187, 188])),\n",
       " 49: (array([344, 344, 344, ..., 393, 393, 393]),\n",
       "  array([145, 146, 147, ..., 160, 161, 162])),\n",
       " 50: (array([344, 344, 344, ..., 394, 394, 394]),\n",
       "  array([110, 112, 113, ..., 130, 131, 132])),\n",
       " 51: (array([345, 345, 345, ..., 394, 394, 394]),\n",
       "  array([ 83,  84,  85, ...,  99, 100, 101])),\n",
       " 52: (array([344, 345, 345, ..., 394, 394, 395]),\n",
       "  array([82, 48, 49, ..., 74, 75, 44])),\n",
       " 53: (array([344, 344, 344, ..., 393, 393, 394]),\n",
       "  array([15, 16, 17, ..., 44, 45, 45])),\n",
       " 54: (array([296, 296, 296, ..., 345, 345, 345]),\n",
       "  array([222, 223, 224, ..., 239, 240, 241])),\n",
       " 55: (array([296, 296, 296, ..., 344, 344, 345]),\n",
       "  array([185, 186, 187, ..., 207, 208, 208])),\n",
       " 56: (array([296, 296, 296, ..., 343, 343, 343]),\n",
       "  array([152, 153, 154, ..., 172, 173, 174])),\n",
       " 57: (array([296, 296, 296, ..., 343, 343, 344]),\n",
       "  array([119, 120, 121, ..., 144, 145, 111])),\n",
       " 58: (array([296, 296, 296, ..., 343, 343, 343]),\n",
       "  array([ 85,  86,  87, ..., 108, 109, 110])),\n",
       " 59: (array([296, 296, 296, ..., 344, 344, 344]),\n",
       "  array([49, 50, 51, ..., 79, 80, 81])),\n",
       " 60: (array([296, 296, 296, ..., 343, 343, 344]),\n",
       "  array([14, 15, 16, ..., 46, 47, 47])),\n",
       " 61: (array([252, 252, 252, ..., 295, 295, 296]),\n",
       "  array([229, 230, 231, ..., 253, 254, 254])),\n",
       " 62: (array([252, 252, 252, ..., 295, 295, 295]),\n",
       "  array([192, 193, 194, ..., 220, 221, 222])),\n",
       " 63: (array([252, 252, 252, ..., 295, 295, 295]),\n",
       "  array([159, 160, 161, ..., 182, 183, 184])),\n",
       " 64: (array([252, 252, 252, ..., 295, 295, 295]),\n",
       "  array([123, 124, 125, ..., 149, 150, 151])),\n",
       " 65: (array([252, 252, 252, ..., 295, 295, 295]),\n",
       "  array([ 90,  91,  92, ..., 116, 117, 118])),\n",
       " 66: (array([252, 252, 252, ..., 295, 295, 296]),\n",
       "  array([52, 53, 54, ..., 83, 84, 48])),\n",
       " 67: (array([251, 252, 252, ..., 295, 295, 296]),\n",
       "  array([14, 14, 15, ..., 46, 47, 47])),\n",
       " 68: (array([206, 206, 206, ..., 251, 251, 251]),\n",
       "  array([236, 237, 238, ..., 262, 263, 264])),\n",
       " 69: (array([207, 207, 207, ..., 251, 251, 252]),\n",
       "  array([198, 199, 200, ..., 227, 228, 228])),\n",
       " 70: (array([206, 206, 206, ..., 251, 251, 251]),\n",
       "  array([164, 165, 166, ..., 189, 190, 191])),\n",
       " 71: (array([205, 205, 205, ..., 251, 251, 252]),\n",
       "  array([129, 130, 131, ..., 158, 159, 121])),\n",
       " 72: (array([206, 206, 206, ..., 251, 251, 252]),\n",
       "  array([ 91,  92,  93, ..., 121, 122, 122])),\n",
       " 73: (array([206, 206, 206, ..., 251, 251, 251]),\n",
       "  array([56, 57, 58, ..., 87, 88, 89])),\n",
       " 74: (array([206, 206, 206, ..., 251, 251, 252]),\n",
       "  array([22, 23, 24, ..., 50, 51, 51])),\n",
       " 75: (array([163, 163, 163, ..., 205, 205, 205]),\n",
       "  array([238, 239, 240, ..., 269, 270, 271])),\n",
       " 76: (array([163, 163, 163, ..., 206, 206, 206]),\n",
       "  array([205, 206, 207, ..., 233, 234, 235])),\n",
       " 77: (array([163, 163, 163, ..., 205, 205, 206]),\n",
       "  array([169, 170, 171, ..., 196, 197, 197])),\n",
       " 78: (array([162, 162, 162, ..., 204, 204, 204]),\n",
       "  array([137, 138, 139, ..., 161, 162, 163])),\n",
       " 79: (array([162, 162, 162, ..., 205, 205, 205]),\n",
       "  array([103, 104, 105, ..., 126, 127, 128])),\n",
       " 80: (array([163, 163, 163, ..., 205, 205, 206]),\n",
       "  array([69, 70, 71, ..., 90, 91, 54])),\n",
       " 81: (array([162, 162, 162, ..., 205, 205, 206]),\n",
       "  array([32, 33, 34, ..., 54, 55, 55])),\n",
       " 82: (array([113, 113, 113, ..., 162, 162, 163]),\n",
       "  array([235, 236, 237, ..., 271, 272, 272])),\n",
       " 83: (array([113, 113, 113, ..., 162, 162, 163]),\n",
       "  array([205, 206, 207, ..., 235, 236, 204])),\n",
       " 84: (array([113, 113, 113, ..., 162, 162, 162]),\n",
       "  array([175, 176, 177, ..., 203, 204, 205])),\n",
       " 85: (array([113, 113, 113, ..., 161, 161, 162]),\n",
       "  array([147, 148, 149, ..., 168, 169, 135])),\n",
       " 86: (array([112, 112, 112, ..., 161, 161, 162]),\n",
       "  array([117, 118, 119, ..., 135, 136, 136])),\n",
       " 87: (array([112, 112, 112, ..., 162, 162, 162]),\n",
       "  array([ 81,  82,  83, ..., 100, 101, 102])),\n",
       " 88: (array([112, 112, 112, ..., 161, 161, 162]),\n",
       "  array([52, 53, 54, ..., 68, 69, 69])),\n",
       " 89: (array([ 65,  65,  65, ..., 112, 112, 113]),\n",
       "  array([222, 223, 224, ..., 264, 265, 265])),\n",
       " 90: (array([ 65,  65,  65, ..., 112, 112, 112]),\n",
       "  array([195, 196, 197, ..., 227, 228, 229])),\n",
       " 91: (array([ 66,  66,  66, ..., 112, 112, 112]),\n",
       "  array([166, 167, 168, ..., 193, 194, 195])),\n",
       " 92: (array([ 66,  66,  66, ..., 112, 112, 112]),\n",
       "  array([136, 137, 138, ..., 158, 159, 160])),\n",
       " 93: (array([ 66,  66,  66, ..., 111, 111, 112]),\n",
       "  array([107, 108, 109, ..., 127, 128, 128])),\n",
       " 94: (array([ 66,  66,  66, ..., 111, 111, 111]),\n",
       "  array([84, 85, 86, ..., 88, 89, 90])),\n",
       " 95: (array([19, 19, 20, ..., 64, 64, 64]),\n",
       "  array([206, 207, 205, ..., 249, 250, 251])),\n",
       " 96: (array([ 9, 10, 10, ..., 65, 65, 65]),\n",
       "  array([175, 177, 178, ..., 192, 193, 194])),\n",
       " 97: (array([ 9, 10, 10, ..., 65, 65, 66]),\n",
       "  array([176, 169, 170, ..., 164, 165, 134])),\n",
       " 98: (array([12, 13, 13, ..., 65, 65, 65]),\n",
       "  array([147, 145, 146, ..., 133, 134, 135]))}"
      ]
     },
     "execution_count": 4,
     "metadata": {},
     "output_type": "execute_result"
    }
   ],
   "source": [
    "pedar.load_foot_mask('../../data/processed/left_foot_mask.png')\n",
    "pedar.l_index"
   ]
  },
  {
   "cell_type": "code",
   "execution_count": 5,
   "metadata": {},
   "outputs": [
    {
     "data": {
      "text/plain": [
       "{99: (array([739, 740, 740, ..., 794, 794, 795]),\n",
       "  array([114, 114, 115, ..., 150, 151, 151])),\n",
       " 100: (array([740, 740, 740, ..., 804, 804, 805]),\n",
       "  array([161, 162, 163, ..., 179, 180, 181])),\n",
       " 101: (array([740, 740, 740, ..., 804, 804, 805]),\n",
       "  array([184, 185, 186, ..., 202, 203, 205])),\n",
       " 102: (array([740, 740, 740, ..., 804, 804, 805]),\n",
       "  array([208, 209, 210, ..., 206, 207, 204])),\n",
       " 103: (array([740, 740, 740, ..., 794, 794, 795]),\n",
       "  array([230, 231, 232, ..., 233, 234, 233])),\n",
       " 104: (array([677, 677, 677, ..., 739, 739, 739]),\n",
       "  array([101, 102, 103, ..., 136, 137, 138])),\n",
       " 105: (array([676, 676, 676, ..., 739, 739, 739]),\n",
       "  array([130, 131, 132, ..., 159, 160, 161])),\n",
       " 106: (array([675, 675, 675, ..., 739, 739, 739]),\n",
       "  array([155, 156, 157, ..., 181, 182, 183])),\n",
       " 107: (array([675, 675, 675, ..., 739, 739, 739]),\n",
       "  array([181, 182, 183, ..., 204, 205, 206])),\n",
       " 108: (array([675, 675, 675, ..., 739, 739, 740]),\n",
       "  array([208, 209, 210, ..., 229, 230, 207])),\n",
       " 109: (array([675, 675, 675, ..., 739, 739, 739]),\n",
       "  array([233, 234, 235, ..., 251, 252, 253])),\n",
       " 110: (array([676, 676, 676, ..., 739, 739, 740]),\n",
       "  array([257, 258, 259, ..., 276, 277, 277])),\n",
       " 111: (array([616, 616, 616, ..., 676, 676, 676]),\n",
       "  array([ 99, 100, 101, ..., 127, 128, 129])),\n",
       " 112: (array([617, 617, 617, ..., 675, 675, 675]),\n",
       "  array([125, 126, 127, ..., 151, 152, 153])),\n",
       " 113: (array([617, 617, 617, ..., 674, 674, 675]),\n",
       "  array([153, 154, 155, ..., 179, 180, 154])),\n",
       " 114: (array([618, 618, 618, ..., 674, 674, 674]),\n",
       "  array([181, 182, 183, ..., 205, 206, 207])),\n",
       " 115: (array([617, 617, 617, ..., 674, 674, 675]),\n",
       "  array([210, 211, 212, ..., 229, 230, 232])),\n",
       " 116: (array([616, 616, 616, ..., 674, 674, 674]),\n",
       "  array([234, 235, 236, ..., 254, 255, 256])),\n",
       " 117: (array([616, 616, 616, ..., 675, 675, 675]),\n",
       "  array([260, 261, 262, ..., 282, 283, 284])),\n",
       " 118: (array([560, 560, 560, ..., 615, 615, 616]),\n",
       "  array([ 94,  95,  96, ..., 123, 124,  98])),\n",
       " 119: (array([560, 560, 560, ..., 616, 616, 617]),\n",
       "  array([121, 122, 123, ..., 149, 150, 152])),\n",
       " 120: (array([559, 559, 559, ..., 616, 616, 616]),\n",
       "  array([152, 153, 154, ..., 178, 179, 180])),\n",
       " 121: (array([560, 560, 560, ..., 617, 617, 617]),\n",
       "  array([178, 179, 180, ..., 207, 208, 209])),\n",
       " 122: (array([560, 560, 560, ..., 616, 616, 616]),\n",
       "  array([205, 206, 207, ..., 230, 231, 232])),\n",
       " 123: (array([560, 560, 560, ..., 615, 615, 616]),\n",
       "  array([232, 233, 234, ..., 258, 259, 233])),\n",
       " 124: (array([560, 560, 560, ..., 615, 615, 616]),\n",
       "  array([261, 262, 263, ..., 287, 288, 288])),\n",
       " 125: (array([504, 504, 504, ..., 559, 559, 559]),\n",
       "  array([ 91,  92,  93, ..., 118, 119, 120])),\n",
       " 126: (array([504, 504, 504, ..., 559, 559, 559]),\n",
       "  array([122, 123, 124, ..., 149, 150, 151])),\n",
       " 127: (array([504, 504, 504, ..., 558, 558, 558]),\n",
       "  array([149, 150, 151, ..., 174, 175, 176])),\n",
       " 128: (array([504, 504, 504, ..., 559, 559, 559]),\n",
       "  array([175, 176, 177, ..., 201, 202, 203])),\n",
       " 129: (array([504, 504, 504, ..., 559, 559, 560]),\n",
       "  array([205, 206, 207, ..., 229, 230, 231])),\n",
       " 130: (array([504, 504, 504, ..., 559, 559, 560]),\n",
       "  array([232, 233, 234, ..., 259, 260, 260])),\n",
       " 131: (array([505, 505, 505, ..., 559, 559, 559]),\n",
       "  array([257, 258, 259, ..., 285, 286, 287])),\n",
       " 132: (array([448, 448, 448, ..., 503, 503, 503]),\n",
       "  array([ 89,  90,  91, ..., 119, 120, 121])),\n",
       " 133: (array([447, 447, 447, ..., 503, 503, 503]),\n",
       "  array([119, 120, 121, ..., 145, 146, 147])),\n",
       " 134: (array([447, 447, 447, ..., 503, 503, 504]),\n",
       "  array([144, 145, 146, ..., 171, 172, 174])),\n",
       " 135: (array([448, 448, 448, ..., 503, 503, 503]),\n",
       "  array([174, 175, 176, ..., 201, 202, 203])),\n",
       " 136: (array([448, 448, 448, ..., 503, 503, 504]),\n",
       "  array([202, 203, 204, ..., 229, 230, 204])),\n",
       " 137: (array([448, 448, 448, ..., 503, 503, 503]),\n",
       "  array([232, 233, 234, ..., 254, 255, 256])),\n",
       " 138: (array([447, 448, 448, ..., 504, 504, 504]),\n",
       "  array([288, 257, 258, ..., 286, 287, 288])),\n",
       " 139: (array([395, 395, 395, ..., 447, 447, 447]),\n",
       "  array([ 84,  85,  86, ..., 116, 117, 118])),\n",
       " 140: (array([395, 395, 395, ..., 446, 446, 446]),\n",
       "  array([114, 115, 116, ..., 141, 142, 143])),\n",
       " 141: (array([394, 394, 394, ..., 446, 446, 446]),\n",
       "  array([143, 144, 145, ..., 170, 171, 172])),\n",
       " 142: (array([395, 395, 395, ..., 447, 447, 447]),\n",
       "  array([171, 172, 173, ..., 198, 199, 200])),\n",
       " 143: (array([395, 395, 395, ..., 447, 447, 448]),\n",
       "  array([201, 202, 203, ..., 229, 230, 201])),\n",
       " 144: (array([395, 395, 395, ..., 447, 447, 447]),\n",
       "  array([227, 228, 229, ..., 254, 255, 256])),\n",
       " 145: (array([394, 394, 394, ..., 447, 447, 447]),\n",
       "  array([259, 260, 261, ..., 285, 286, 287])),\n",
       " 146: (array([346, 346, 346, ..., 394, 394, 394]),\n",
       "  array([ 62,  63,  64, ..., 111, 112, 113])),\n",
       " 147: (array([345, 345, 345, ..., 394, 394, 394]),\n",
       "  array([ 95,  96,  97, ..., 140, 141, 142])),\n",
       " 148: (array([344, 344, 344, ..., 393, 393, 393]),\n",
       "  array([129, 130, 131, ..., 167, 168, 169])),\n",
       " 149: (array([344, 344, 344, ..., 394, 394, 394]),\n",
       "  array([158, 159, 160, ..., 198, 199, 200])),\n",
       " 150: (array([345, 345, 345, ..., 394, 394, 394]),\n",
       "  array([191, 192, 193, ..., 224, 225, 226])),\n",
       " 151: (array([344, 345, 345, ..., 394, 394, 395]),\n",
       "  array([220, 220, 221, ..., 256, 258, 258])),\n",
       " 152: (array([344, 344, 344, ..., 393, 393, 394]),\n",
       "  array([256, 257, 258, ..., 286, 287, 257])),\n",
       " 153: (array([296, 296, 296, ..., 345, 345, 345]),\n",
       "  array([49, 50, 51, ..., 91, 92, 93])),\n",
       " 154: (array([296, 296, 296, ..., 344, 344, 345]),\n",
       "  array([ 81,  82,  83, ..., 127, 128,  94])),\n",
       " 155: (array([296, 296, 296, ..., 343, 343, 343]),\n",
       "  array([118, 119, 120, ..., 154, 155, 156])),\n",
       " 156: (array([296, 296, 296, ..., 343, 343, 344]),\n",
       "  array([151, 152, 153, ..., 190, 191, 191])),\n",
       " 157: (array([296, 296, 296, ..., 343, 343, 343]),\n",
       "  array([184, 185, 186, ..., 218, 219, 220])),\n",
       " 158: (array([296, 296, 296, ..., 344, 344, 344]),\n",
       "  array([218, 219, 220, ..., 252, 253, 254])),\n",
       " 159: (array([296, 296, 296, ..., 343, 343, 344]),\n",
       "  array([256, 257, 258, ..., 287, 288, 255])),\n",
       " 160: (array([252, 252, 252, ..., 295, 295, 296]),\n",
       "  array([38, 39, 40, ..., 78, 79, 48])),\n",
       " 161: (array([252, 252, 252, ..., 295, 295, 295]),\n",
       "  array([ 75,  76,  77, ..., 115, 116, 117])),\n",
       " 162: (array([252, 252, 252, ..., 295, 295, 295]),\n",
       "  array([111, 112, 113, ..., 148, 149, 150])),\n",
       " 163: (array([252, 252, 252, ..., 295, 295, 295]),\n",
       "  array([144, 145, 146, ..., 181, 182, 183])),\n",
       " 164: (array([252, 252, 252, ..., 295, 295, 295]),\n",
       "  array([182, 183, 184, ..., 215, 216, 217])),\n",
       " 165: (array([252, 252, 252, ..., 295, 295, 296]),\n",
       "  array([213, 214, 215, ..., 253, 254, 254])),\n",
       " 166: (array([251, 252, 252, ..., 295, 295, 296]),\n",
       "  array([288, 252, 253, ..., 287, 288, 255])),\n",
       " 167: (array([206, 206, 206, ..., 251, 251, 251]),\n",
       "  array([31, 32, 33, ..., 71, 72, 73])),\n",
       " 168: (array([207, 207, 207, ..., 251, 251, 252]),\n",
       "  array([ 68,  69,  70, ..., 109, 110,  74])),\n",
       " 169: (array([206, 206, 206, ..., 251, 251, 251]),\n",
       "  array([106, 107, 108, ..., 140, 141, 142])),\n",
       " 170: (array([205, 205, 205, ..., 251, 251, 252]),\n",
       "  array([141, 142, 143, ..., 178, 179, 181])),\n",
       " 171: (array([206, 206, 206, ..., 251, 251, 252]),\n",
       "  array([174, 175, 176, ..., 211, 212, 180])),\n",
       " 172: (array([206, 206, 206, ..., 251, 251, 251]),\n",
       "  array([212, 213, 214, ..., 248, 249, 250])),\n",
       " 173: (array([206, 206, 206, ..., 251, 251, 252]),\n",
       "  array([249, 250, 251, ..., 286, 287, 251])),\n",
       " 174: (array([163, 163, 163, ..., 205, 205, 205]),\n",
       "  array([31, 32, 33, ..., 64, 65, 66])),\n",
       " 175: (array([163, 163, 163, ..., 206, 206, 206]),\n",
       "  array([ 65,  66,  67, ..., 102, 103, 104])),\n",
       " 176: (array([163, 163, 163, ..., 205, 205, 206]),\n",
       "  array([ 99, 100, 101, ..., 139, 140, 105])),\n",
       " 177: (array([162, 162, 162, ..., 204, 204, 204]),\n",
       "  array([135, 136, 137, ..., 171, 172, 173])),\n",
       " 178: (array([162, 162, 162, ..., 205, 205, 205]),\n",
       "  array([168, 169, 170, ..., 208, 209, 210])),\n",
       " 179: (array([163, 163, 163, ..., 205, 205, 206]),\n",
       "  array([201, 202, 203, ..., 245, 246, 248])),\n",
       " 180: (array([162, 162, 162, ..., 205, 205, 206]),\n",
       "  array([235, 236, 237, ..., 279, 280, 247])),\n",
       " 181: (array([113, 113, 113, ..., 162, 162, 163]),\n",
       "  array([38, 39, 40, ..., 64, 65, 30])),\n",
       " 182: (array([113, 113, 113, ..., 162, 162, 163]),\n",
       "  array([68, 69, 70, ..., 95, 96, 98])),\n",
       " 183: (array([113, 113, 113, ..., 162, 162, 162]),\n",
       "  array([ 98,  99, 100, ..., 132, 133, 134])),\n",
       " 184: (array([113, 113, 113, ..., 161, 161, 162]),\n",
       "  array([128, 129, 130, ..., 164, 165, 167])),\n",
       " 185: (array([112, 112, 112, ..., 161, 161, 162]),\n",
       "  array([175, 176, 177, ..., 198, 199, 166])),\n",
       " 186: (array([112, 112, 112, ..., 162, 162, 162]),\n",
       "  array([186, 187, 188, ..., 231, 232, 234])),\n",
       " 187: (array([112, 112, 112, ..., 161, 161, 162]),\n",
       "  array([222, 223, 224, ..., 269, 270, 233])),\n",
       " 188: (array([ 65,  65,  65, ..., 112, 112, 113]),\n",
       "  array([51, 52, 53, ..., 71, 72, 37])),\n",
       " 189: (array([ 65,  65,  65, ..., 112, 112, 112]),\n",
       "  array([ 81,  82,  83, ..., 104, 105, 106])),\n",
       " 190: (array([ 66,  66,  66, ..., 112, 112, 112]),\n",
       "  array([109, 110, 111, ..., 139, 140, 141])),\n",
       " 191: (array([ 66,  66,  66, ..., 112, 112, 112]),\n",
       "  array([137, 138, 139, ..., 171, 172, 173])),\n",
       " 192: (array([ 66,  66,  66, ..., 111, 111, 112]),\n",
       "  array([167, 169, 170, ..., 210, 211, 174])),\n",
       " 193: (array([ 66,  66,  66, ..., 111, 111, 111]),\n",
       "  array([196, 197, 198, ..., 248, 249, 250])),\n",
       " 194: (array([19, 19, 20, ..., 64, 64, 64]),\n",
       "  array([ 95,  96,  94, ..., 105, 106, 107])),\n",
       " 195: (array([ 9, 10, 10, ..., 65, 65, 65]),\n",
       "  array([127, 123, 124, ..., 134, 135, 136])),\n",
       " 196: (array([ 9, 10, 10, ..., 65, 65, 66]),\n",
       "  array([126, 126, 127, ..., 165, 166, 168])),\n",
       " 197: (array([12, 13, 13, ..., 65, 65, 65]),\n",
       "  array([155, 155, 156, ..., 216, 217, 218]))}"
      ]
     },
     "execution_count": 5,
     "metadata": {},
     "output_type": "execute_result"
    }
   ],
   "source": [
    "pedar.r_index"
   ]
  },
  {
   "cell_type": "markdown",
   "metadata": {},
   "source": [
    "## Extract common contact area"
   ]
  },
  {
   "cell_type": "markdown",
   "metadata": {},
   "source": [
    "### Filtered counts approach"
   ]
  },
  {
   "cell_type": "code",
   "execution_count": 6,
   "metadata": {},
   "outputs": [
    {
     "data": {
      "text/plain": [
       "1       26\n",
       "2      184\n",
       "3      244\n",
       "4      258\n",
       "5      225\n",
       "      ... \n",
       "194     55\n",
       "195     78\n",
       "196     62\n",
       "197     70\n",
       "198     16\n",
       "Length: 198, dtype: int64"
      ]
     },
     "execution_count": 6,
     "metadata": {},
     "output_type": "execute_result"
    }
   ],
   "source": [
    "count = (pedar.pedar_static > 20).sum()\n",
    "count"
   ]
  },
  {
   "cell_type": "code",
   "execution_count": 7,
   "metadata": {},
   "outputs": [
    {
     "data": {
      "image/png": "[encoded data removed]",
      "text/plain": [
       "<Figure size 640x480 with 4 Axes>"
      ]
     },
     "metadata": {},
     "output_type": "display_data"
    }
   ],
   "source": [
    "pedar.draw_heatmap(\n",
    "    count / count.max(),\n",
    "    '../../data/processed/left_foot_mask.png',\n",
    "    vmax=count.max(),\n",
    ")"
   ]
  },
  {
   "cell_type": "code",
   "execution_count": 8,
   "metadata": {},
   "outputs": [
    {
     "data": {
      "image/png": "[encoded data removed]",
      "text/plain": [
       "<Figure size 640x480 with 4 Axes>"
      ]
     },
     "metadata": {},
     "output_type": "display_data"
    }
   ],
   "source": [
    "pedar.draw_heatmap(\n",
    "    (count >= 100) * 1.0,\n",
    "    vmax=1,\n",
    ")"
   ]
  },
  {
   "cell_type": "code",
   "execution_count": 9,
   "metadata": {},
   "outputs": [
    {
     "data": {
      "text/plain": [
       "array([  1,   2,   3,   4,   6,   7,   8,   9,  10,  11,  13,  14,  15,\n",
       "        16,  17,  18,  20,  21,  22,  23,  24,  27,  28,  29,  30,  31,\n",
       "        32,  34,  35,  36,  37,  38,  39,  45,  52,  53,  55,  56,  58,\n",
       "        59,  60,  61,  62,  63,  64,  65,  66,  67,  68,  69,  70,  71,\n",
       "        72,  73,  75,  76,  77,  78,  79,  80,  82,  83,  89,  90, 100,\n",
       "       101, 102, 103, 105, 106, 107, 108, 109, 110, 112, 113, 114, 115,\n",
       "       116, 117, 119, 120, 121, 122, 123, 126, 127, 128, 129, 130, 131,\n",
       "       133, 134, 135, 136, 137, 138, 143, 144, 145, 150, 151, 152, 154,\n",
       "       155, 157, 158, 159, 160, 161, 162, 163, 164, 165, 166, 167, 168,\n",
       "       169, 170, 171, 172, 173, 175, 176, 177, 178, 181, 182, 188, 189,\n",
       "       190, 192])"
      ]
     },
     "execution_count": 9,
     "metadata": {},
     "output_type": "execute_result"
    }
   ],
   "source": [
    "import numpy as np\n",
    "\n",
    "sensors = np.where(count >= 100)[0]\n",
    "sensors"
   ]
  },
  {
   "cell_type": "markdown",
   "metadata": {},
   "source": [
    "### Filter mean approach"
   ]
  },
  {
   "cell_type": "code",
   "execution_count": 10,
   "metadata": {},
   "outputs": [
    {
     "data": {
      "image/png": "[encoded data removed]",
      "text/plain": [
       "<Figure size 640x480 with 4 Axes>"
      ]
     },
     "metadata": {},
     "output_type": "display_data"
    }
   ],
   "source": [
    "mean = pedar.pedar_static.mean()\n",
    "\n",
    "threads_hold = 20\n",
    "\n",
    "pedar.draw_heatmap(\n",
    "    (mean > threads_hold) * 1.0,\n",
    "    '../../data/processed/left_foot_mask.png',\n",
    "    vmax=1,\n",
    ")"
   ]
  },
  {
   "cell_type": "code",
   "execution_count": 11,
   "metadata": {},
   "outputs": [
    {
     "data": {
      "image/png": "[encoded data removed]",
      "text/plain": [
       "<Figure size 640x480 with 4 Axes>"
      ]
     },
     "metadata": {},
     "output_type": "display_data"
    }
   ],
   "source": [
    "mean = pedar.pedar_dynamic.mean()\n",
    "\n",
    "threads_hold = 45\n",
    "\n",
    "pedar.draw_heatmap(\n",
    "    (mean > threads_hold) * 1.0,\n",
    "    '../../data/processed/left_foot_mask.png',\n",
    "    vmax=1,\n",
    ")"
   ]
  },
  {
   "cell_type": "code",
   "execution_count": 12,
   "metadata": {},
   "outputs": [
    {
     "data": {
      "text/plain": [
       "array([  1,   2,   3,   4,   6,   7,   8,   9,  10,  11,  12,  13,  14,\n",
       "        15,  16,  17,  18,  20,  21,  22,  23,  24,  25,  28,  29,  30,\n",
       "        31,  32,  38,  39,  57,  58,  59,  60,  61,  62,  63,  64,  65,\n",
       "        66,  67,  68,  69,  70,  71,  72,  73,  75,  76,  77,  78,  79,\n",
       "        82,  83,  88,  89,  90,  91,  92,  95, 100, 101, 102, 103, 104,\n",
       "       105, 106, 107, 108, 109, 110, 111, 112, 113, 114, 115, 116, 117,\n",
       "       120, 121, 122, 123, 124, 128, 129, 130, 131, 138, 145, 152, 154,\n",
       "       156, 157, 158, 159, 160, 161, 162, 163, 164, 165, 166, 167, 168,\n",
       "       169, 170, 171, 172, 173, 174, 175, 176, 177, 178, 181, 182, 187,\n",
       "       188, 189, 191, 194])"
      ]
     },
     "execution_count": 12,
     "metadata": {},
     "output_type": "execute_result"
    }
   ],
   "source": [
    "sensors = np.where(mean > threads_hold)[0]\n",
    "sensors"
   ]
  },
  {
   "cell_type": "markdown",
   "metadata": {},
   "source": [
    "## Export common contact points"
   ]
  },
  {
   "cell_type": "code",
   "execution_count": 13,
   "metadata": {},
   "outputs": [],
   "source": [
    "l_contact = []\n",
    "r_contact = []\n",
    "\n",
    "for sensor in sensors:\n",
    "    if sensor <= 99:\n",
    "        l_contact.append(np.array(pedar.l_index[sensor]).T)\n",
    "    else:\n",
    "        r_contact.append(np.array(pedar.r_index[sensor]).T)"
   ]
  },
  {
   "cell_type": "code",
   "execution_count": 14,
   "metadata": {},
   "outputs": [
    {
     "data": {
      "text/plain": [
       "((94455, 2), (96804, 2))"
      ]
     },
     "execution_count": 14,
     "metadata": {},
     "output_type": "execute_result"
    }
   ],
   "source": [
    "points_l_contact = np.concatenate(l_contact)\n",
    "points_r_contact = np.concatenate(r_contact)\n",
    "points_l_contact.shape, points_r_contact.shape"
   ]
  },
  {
   "cell_type": "code",
   "execution_count": 15,
   "metadata": {},
   "outputs": [],
   "source": [
    "np.save('../../data/processed/points_l_contact.npy', points_l_contact)\n",
    "np.save('../../data/processed/points_r_contact.npy', points_r_contact)"
   ]
  },
  {
   "cell_type": "code",
   "execution_count": null,
   "metadata": {},
   "outputs": [],
   "source": []
  }
 ],
 "metadata": {
  "kernelspec": {
   "display_name": "pytorch",
   "language": "python",
   "name": "python3"
  },
  "language_info": {
   "codemirror_mode": {
    "name": "ipython",
    "version": 3
   },
   "file_extension": ".py",
   "mimetype": "text/x-python",
   "name": "python",
   "nbconvert_exporter": "python",
   "pygments_lexer": "ipython3",
   "version": "3.9.16"
  }
 },
 "nbformat": 4,
 "nbformat_minor": 2
}
